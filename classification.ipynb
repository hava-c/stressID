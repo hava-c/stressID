{
 "cells": [
  {
   "cell_type": "code",
   "execution_count": 1,
   "metadata": {},
   "outputs": [],
   "source": [
    "import numpy as np\n",
    "import scipy.io\n",
    "import scipy.stats as stats\n",
    "import matplotlib.pyplot as plt\n",
    "import pandas as pd\n",
    "import random\n",
    "import time \n",
    "\n",
    "import os\n",
    "from pathlib import Path\n",
    "\n",
    "from sklearn.linear_model import LogisticRegression\n",
    "from sklearn.ensemble import RandomForestClassifier, GradientBoostingClassifier\n",
    "from sklearn.neighbors import KNeighborsClassifier\n",
    "from sklearn.ensemble import AdaBoostClassifier\n",
    "from sklearn.tree import DecisionTreeClassifier\n",
    "from sklearn.neural_network import MLPClassifier\n",
    "\n",
    "from sklearn.metrics import classification_report, confusion_matrix, accuracy_score\n",
    "from sklearn.model_selection import train_test_split, LeaveOneOut, GroupKFold\n",
    "from sklearn.svm import LinearSVC, SVR\n",
    "from sklearn.feature_selection import SelectFromModel\n",
    "from sklearn.pipeline import Pipeline\n",
    "from sklearn.feature_selection import RFE\n",
    "from sklearn.feature_selection import RFECV\n",
    "from sklearn.metrics import balanced_accuracy_score, f1_score\n",
    "\n",
    "from sklearn.experimental import enable_iterative_imputer\n",
    "from sklearn.impute import IterativeImputer\n",
    "from sklearn.preprocessing import StandardScaler\n",
    "\n",
    "from sklearn.utils import shuffle\n",
    "\n",
    "from make_classification import *"
   ]
  },
  {
   "cell_type": "markdown",
   "metadata": {},
   "source": [
    "# Import and prepare dataset"
   ]
  },
  {
   "cell_type": "code",
   "execution_count": 2,
   "metadata": {},
   "outputs": [
    {
     "data": {
      "text/html": [
       "<div>\n",
       "<style scoped>\n",
       "    .dataframe tbody tr th:only-of-type {\n",
       "        vertical-align: middle;\n",
       "    }\n",
       "\n",
       "    .dataframe tbody tr th {\n",
       "        vertical-align: top;\n",
       "    }\n",
       "\n",
       "    .dataframe thead th {\n",
       "        text-align: right;\n",
       "    }\n",
       "</style>\n",
       "<table border=\"1\" class=\"dataframe\">\n",
       "  <thead>\n",
       "    <tr style=\"text-align: right;\">\n",
       "      <th></th>\n",
       "      <th>3class</th>\n",
       "      <th>binary-stress</th>\n",
       "      <th>binary-relax</th>\n",
       "      <th>binary-valence</th>\n",
       "      <th>binary-arousal</th>\n",
       "    </tr>\n",
       "    <tr>\n",
       "      <th>subject/task</th>\n",
       "      <th></th>\n",
       "      <th></th>\n",
       "      <th></th>\n",
       "      <th></th>\n",
       "      <th></th>\n",
       "    </tr>\n",
       "  </thead>\n",
       "  <tbody>\n",
       "    <tr>\n",
       "      <th>2ea4_Breathing</th>\n",
       "      <td>0</td>\n",
       "      <td>0</td>\n",
       "      <td>1</td>\n",
       "      <td>0.0</td>\n",
       "      <td>0.0</td>\n",
       "    </tr>\n",
       "    <tr>\n",
       "      <th>2ea4_Counting1</th>\n",
       "      <td>1</td>\n",
       "      <td>1</td>\n",
       "      <td>0</td>\n",
       "      <td>0.0</td>\n",
       "      <td>1.0</td>\n",
       "    </tr>\n",
       "    <tr>\n",
       "      <th>2ea4_Counting2</th>\n",
       "      <td>1</td>\n",
       "      <td>1</td>\n",
       "      <td>0</td>\n",
       "      <td>0.0</td>\n",
       "      <td>1.0</td>\n",
       "    </tr>\n",
       "    <tr>\n",
       "      <th>2ea4_Counting3</th>\n",
       "      <td>1</td>\n",
       "      <td>1</td>\n",
       "      <td>0</td>\n",
       "      <td>0.0</td>\n",
       "      <td>1.0</td>\n",
       "    </tr>\n",
       "    <tr>\n",
       "      <th>2ea4_Math</th>\n",
       "      <td>1</td>\n",
       "      <td>1</td>\n",
       "      <td>1</td>\n",
       "      <td>0.0</td>\n",
       "      <td>1.0</td>\n",
       "    </tr>\n",
       "  </tbody>\n",
       "</table>\n",
       "</div>"
      ],
      "text/plain": [
       "                3class  binary-stress  binary-relax  binary-valence  \\\n",
       "subject/task                                                          \n",
       "2ea4_Breathing       0              0             1             0.0   \n",
       "2ea4_Counting1       1              1             0             0.0   \n",
       "2ea4_Counting2       1              1             0             0.0   \n",
       "2ea4_Counting3       1              1             0             0.0   \n",
       "2ea4_Math            1              1             1             0.0   \n",
       "\n",
       "                binary-arousal  \n",
       "subject/task                    \n",
       "2ea4_Breathing             0.0  \n",
       "2ea4_Counting1             1.0  \n",
       "2ea4_Counting2             1.0  \n",
       "2ea4_Counting3             1.0  \n",
       "2ea4_Math                  1.0  "
      ]
     },
     "execution_count": 2,
     "metadata": {},
     "output_type": "execute_result"
    }
   ],
   "source": [
    "path_labels = '../Dataset/'\n",
    "labels = pd.read_csv(path_labels+'labels.txt', sep=\",\", header=0, index_col=0)\n",
    "labels.head()"
   ]
  },
  {
   "cell_type": "code",
   "execution_count": 3,
   "metadata": {
    "scrolled": true
   },
   "outputs": [
    {
     "data": {
      "text/plain": [
       "1    360\n",
       "0    331\n",
       "Name: binary-stress, dtype: int64"
      ]
     },
     "execution_count": 3,
     "metadata": {},
     "output_type": "execute_result"
    }
   ],
   "source": [
    "y = labels['binary-stress']\n",
    "y.value_counts()"
   ]
  },
  {
   "cell_type": "code",
   "execution_count": 4,
   "metadata": {},
   "outputs": [],
   "source": [
    "x_ecg = pd.read_csv('Features/ecg_features.csv', sep=\",\", header=0, index_col=0)\n",
    "x_eda = pd.read_csv('Features/eda_features.csv', sep=\",\", header=0, index_col=0)\n",
    "x_resp = pd.read_csv('Features/resp_features.csv', sep=\",\", header=0, index_col=0)\n",
    "\n",
    "# --------- TO FIX: Remove rows without a label --------------#\n",
    "x_ecg = x_ecg.loc[list(labels.index)]\n",
    "x_eda = x_eda.loc[list(labels.index)]\n",
    "x_resp = x_resp.loc[list(labels.index)]\n",
    "# ------------------------------------------------------------#"
   ]
  },
  {
   "cell_type": "code",
   "execution_count": 5,
   "metadata": {},
   "outputs": [
    {
     "data": {
      "text/html": [
       "<div>\n",
       "<style scoped>\n",
       "    .dataframe tbody tr th:only-of-type {\n",
       "        vertical-align: middle;\n",
       "    }\n",
       "\n",
       "    .dataframe tbody tr th {\n",
       "        vertical-align: top;\n",
       "    }\n",
       "\n",
       "    .dataframe thead th {\n",
       "        text-align: right;\n",
       "    }\n",
       "</style>\n",
       "<table border=\"1\" class=\"dataframe\">\n",
       "  <thead>\n",
       "    <tr style=\"text-align: right;\">\n",
       "      <th></th>\n",
       "      <th>meanHR</th>\n",
       "      <th>minHR</th>\n",
       "      <th>maxHR</th>\n",
       "      <th>sdHR</th>\n",
       "      <th>modeHR</th>\n",
       "      <th>nNN</th>\n",
       "      <th>meanNN</th>\n",
       "      <th>SDSD</th>\n",
       "      <th>CVNN</th>\n",
       "      <th>SDNN</th>\n",
       "      <th>...</th>\n",
       "      <th>VHF_rsp</th>\n",
       "      <th>LF/HF_rsp</th>\n",
       "      <th>rLF_rsp</th>\n",
       "      <th>rHF_rsp</th>\n",
       "      <th>peakLF_rsp</th>\n",
       "      <th>peakHF_rsp</th>\n",
       "      <th>SD1_rrv</th>\n",
       "      <th>SD2_rrv</th>\n",
       "      <th>SD1SD2_rrv</th>\n",
       "      <th>apEn_rrv</th>\n",
       "    </tr>\n",
       "  </thead>\n",
       "  <tbody>\n",
       "    <tr>\n",
       "      <th>2ea4_Baseline</th>\n",
       "      <td>63.430940</td>\n",
       "      <td>57.034221</td>\n",
       "      <td>79.575597</td>\n",
       "      <td>4.686314</td>\n",
       "      <td>22.541376</td>\n",
       "      <td>62.000000</td>\n",
       "      <td>950.677419</td>\n",
       "      <td>42.033401</td>\n",
       "      <td>64.843179</td>\n",
       "      <td>0.068207</td>\n",
       "      <td>...</td>\n",
       "      <td>2.403554</td>\n",
       "      <td>1.025407</td>\n",
       "      <td>50.627207</td>\n",
       "      <td>49.372793</td>\n",
       "      <td>0.131387</td>\n",
       "      <td>0.175182</td>\n",
       "      <td>816.718056</td>\n",
       "      <td>333.265493</td>\n",
       "      <td>2.450653</td>\n",
       "      <td>0.105361</td>\n",
       "    </tr>\n",
       "    <tr>\n",
       "      <th>2ea4_Breathing</th>\n",
       "      <td>61.712465</td>\n",
       "      <td>45.871560</td>\n",
       "      <td>84.269663</td>\n",
       "      <td>11.008515</td>\n",
       "      <td>38.398103</td>\n",
       "      <td>59.666667</td>\n",
       "      <td>1002.893855</td>\n",
       "      <td>106.659486</td>\n",
       "      <td>173.316531</td>\n",
       "      <td>0.172816</td>\n",
       "      <td>...</td>\n",
       "      <td>9.995773</td>\n",
       "      <td>2.720270</td>\n",
       "      <td>73.120232</td>\n",
       "      <td>26.879768</td>\n",
       "      <td>0.117188</td>\n",
       "      <td>0.164062</td>\n",
       "      <td>1119.779881</td>\n",
       "      <td>647.574415</td>\n",
       "      <td>1.729191</td>\n",
       "      <td>0.013791</td>\n",
       "    </tr>\n",
       "    <tr>\n",
       "      <th>2ea4_Counting1</th>\n",
       "      <td>70.649419</td>\n",
       "      <td>58.252427</td>\n",
       "      <td>82.872928</td>\n",
       "      <td>5.750703</td>\n",
       "      <td>24.620501</td>\n",
       "      <td>69.000000</td>\n",
       "      <td>855.101449</td>\n",
       "      <td>43.670598</td>\n",
       "      <td>72.095377</td>\n",
       "      <td>0.084312</td>\n",
       "      <td>...</td>\n",
       "      <td>0.923779</td>\n",
       "      <td>1.881455</td>\n",
       "      <td>65.295311</td>\n",
       "      <td>34.704689</td>\n",
       "      <td>0.086957</td>\n",
       "      <td>0.173913</td>\n",
       "      <td>560.140756</td>\n",
       "      <td>681.563788</td>\n",
       "      <td>0.821846</td>\n",
       "      <td>0.105361</td>\n",
       "    </tr>\n",
       "    <tr>\n",
       "      <th>2ea4_Counting2</th>\n",
       "      <td>63.913828</td>\n",
       "      <td>52.910053</td>\n",
       "      <td>79.787234</td>\n",
       "      <td>5.890798</td>\n",
       "      <td>26.877181</td>\n",
       "      <td>63.000000</td>\n",
       "      <td>946.476190</td>\n",
       "      <td>58.622906</td>\n",
       "      <td>84.207389</td>\n",
       "      <td>0.088969</td>\n",
       "      <td>...</td>\n",
       "      <td>0.292025</td>\n",
       "      <td>15.878445</td>\n",
       "      <td>94.075284</td>\n",
       "      <td>5.924716</td>\n",
       "      <td>0.082192</td>\n",
       "      <td>0.164384</td>\n",
       "      <td>538.632539</td>\n",
       "      <td>525.776932</td>\n",
       "      <td>1.024451</td>\n",
       "      <td>0.105361</td>\n",
       "    </tr>\n",
       "    <tr>\n",
       "      <th>2ea4_Counting3</th>\n",
       "      <td>64.321357</td>\n",
       "      <td>49.751244</td>\n",
       "      <td>78.534031</td>\n",
       "      <td>5.908397</td>\n",
       "      <td>28.782788</td>\n",
       "      <td>62.000000</td>\n",
       "      <td>941.032258</td>\n",
       "      <td>39.985888</td>\n",
       "      <td>90.192441</td>\n",
       "      <td>0.095844</td>\n",
       "      <td>...</td>\n",
       "      <td>1.063001</td>\n",
       "      <td>33.239731</td>\n",
       "      <td>97.079416</td>\n",
       "      <td>2.920584</td>\n",
       "      <td>0.093750</td>\n",
       "      <td>0.187500</td>\n",
       "      <td>908.089478</td>\n",
       "      <td>816.368158</td>\n",
       "      <td>1.112353</td>\n",
       "      <td>0.117783</td>\n",
       "    </tr>\n",
       "  </tbody>\n",
       "</table>\n",
       "<p>5 rows × 132 columns</p>\n",
       "</div>"
      ],
      "text/plain": [
       "                   meanHR      minHR      maxHR       sdHR     modeHR  \\\n",
       "2ea4_Baseline   63.430940  57.034221  79.575597   4.686314  22.541376   \n",
       "2ea4_Breathing  61.712465  45.871560  84.269663  11.008515  38.398103   \n",
       "2ea4_Counting1  70.649419  58.252427  82.872928   5.750703  24.620501   \n",
       "2ea4_Counting2  63.913828  52.910053  79.787234   5.890798  26.877181   \n",
       "2ea4_Counting3  64.321357  49.751244  78.534031   5.908397  28.782788   \n",
       "\n",
       "                      nNN       meanNN        SDSD        CVNN      SDNN  ...  \\\n",
       "2ea4_Baseline   62.000000   950.677419   42.033401   64.843179  0.068207  ...   \n",
       "2ea4_Breathing  59.666667  1002.893855  106.659486  173.316531  0.172816  ...   \n",
       "2ea4_Counting1  69.000000   855.101449   43.670598   72.095377  0.084312  ...   \n",
       "2ea4_Counting2  63.000000   946.476190   58.622906   84.207389  0.088969  ...   \n",
       "2ea4_Counting3  62.000000   941.032258   39.985888   90.192441  0.095844  ...   \n",
       "\n",
       "                 VHF_rsp  LF/HF_rsp    rLF_rsp    rHF_rsp  peakLF_rsp  \\\n",
       "2ea4_Baseline   2.403554   1.025407  50.627207  49.372793    0.131387   \n",
       "2ea4_Breathing  9.995773   2.720270  73.120232  26.879768    0.117188   \n",
       "2ea4_Counting1  0.923779   1.881455  65.295311  34.704689    0.086957   \n",
       "2ea4_Counting2  0.292025  15.878445  94.075284   5.924716    0.082192   \n",
       "2ea4_Counting3  1.063001  33.239731  97.079416   2.920584    0.093750   \n",
       "\n",
       "                peakHF_rsp      SD1_rrv     SD2_rrv  SD1SD2_rrv  apEn_rrv  \n",
       "2ea4_Baseline     0.175182   816.718056  333.265493    2.450653  0.105361  \n",
       "2ea4_Breathing    0.164062  1119.779881  647.574415    1.729191  0.013791  \n",
       "2ea4_Counting1    0.173913   560.140756  681.563788    0.821846  0.105361  \n",
       "2ea4_Counting2    0.164384   538.632539  525.776932    1.024451  0.105361  \n",
       "2ea4_Counting3    0.187500   908.089478  816.368158    1.112353  0.117783  \n",
       "\n",
       "[5 rows x 132 columns]"
      ]
     },
     "execution_count": 5,
     "metadata": {},
     "output_type": "execute_result"
    }
   ],
   "source": [
    "x = pd.read_csv('Features/all_physiological_features.csv', sep=\",\", header=0, index_col=0)\n",
    "x.head(5)"
   ]
  },
  {
   "cell_type": "markdown",
   "metadata": {},
   "source": [
    "#### Pre-processing of the data"
   ]
  },
  {
   "cell_type": "code",
   "execution_count": 6,
   "metadata": {},
   "outputs": [],
   "source": [
    "\"\"\"\n",
    "# remove the inf values and columns with more than 20% missing data\n",
    "x.replace([np.inf, -np.inf], np.nan, inplace=True)\n",
    "nan_cols = [i for i in x.columns if x[i].isnull().sum() > 0.2*len(x)]\n",
    "x.drop(columns=nan_cols, inplace=True)\n",
    "\"\"\"\n",
    "\n",
    "# --------- TO FIX: Remove rows without a label --------------#\n",
    "x = x.loc[list(labels.index)]\n",
    "# ------------------------------------------------------------#"
   ]
  },
  {
   "cell_type": "markdown",
   "metadata": {},
   "source": [
    "# Classification\n",
    "\n",
    "Feature selection using L1 penalty or Recursive Feature Elimination (RFE). The optimal number of features is determined using RFECV. Several models are tested: Logistic Regression, Decision Trees, Random Forests, K neares neighbors, Adaboost, GradientBoosting, and Multi Layer Perceptron. \n",
    "\n",
    "The models are fitted 10 times, and the average scores over 10 repetitions are reported."
   ]
  },
  {
   "cell_type": "markdown",
   "metadata": {},
   "source": [
    "## One dataset (example: only on ECG features database) "
   ]
  },
  {
   "cell_type": "code",
   "execution_count": 8,
   "metadata": {},
   "outputs": [],
   "source": [
    "feature_selector= \"l1\"\n",
    "list_classif = [#LogisticRegression(max_iter=5000, random_state=0),\n",
    "                #DecisionTreeClassifier(random_state=0), \n",
    "                RandomForestClassifier(max_depth=5, random_state=0), \n",
    "                #KNeighborsClassifier(n_neighbors=3), \n",
    "                #AdaBoostClassifier(n_estimators=100, random_state=0), \n",
    "                #GradientBoostingClassifier(n_estimators=100, learning_rate=1.0, max_depth=2, random_state=0),\n",
    "                MLPClassifier(random_state=0, max_iter=5000)]\n",
    "n_splits=10"
   ]
  },
  {
   "cell_type": "code",
   "execution_count": 10,
   "metadata": {
    "scrolled": false
   },
   "outputs": [
    {
     "name": "stdout",
     "output_type": "stream",
     "text": [
      "Split  1/10\n",
      "Split  2/10\n",
      "Split  3/10\n",
      "Split  4/10\n",
      "Split  5/10\n",
      "Split  6/10\n",
      "Split  7/10\n",
      "Split  8/10\n",
      "Split  9/10\n",
      "Split 10/10\n"
     ]
    },
    {
     "data": {
      "text/html": [
       "<div>\n",
       "<style scoped>\n",
       "    .dataframe tbody tr th:only-of-type {\n",
       "        vertical-align: middle;\n",
       "    }\n",
       "\n",
       "    .dataframe tbody tr th {\n",
       "        vertical-align: top;\n",
       "    }\n",
       "\n",
       "    .dataframe thead th {\n",
       "        text-align: right;\n",
       "    }\n",
       "</style>\n",
       "<table border=\"1\" class=\"dataframe\">\n",
       "  <thead>\n",
       "    <tr style=\"text-align: right;\">\n",
       "      <th></th>\n",
       "      <th>f1-score</th>\n",
       "      <th>accuracy</th>\n",
       "      <th>time</th>\n",
       "    </tr>\n",
       "    <tr>\n",
       "      <th>classifier</th>\n",
       "      <th></th>\n",
       "      <th></th>\n",
       "      <th></th>\n",
       "    </tr>\n",
       "  </thead>\n",
       "  <tbody>\n",
       "    <tr>\n",
       "      <th>MLPClassifier</th>\n",
       "      <td>0.671666</td>\n",
       "      <td>0.673500</td>\n",
       "      <td>3.734108</td>\n",
       "    </tr>\n",
       "    <tr>\n",
       "      <th>RandomForestClassifier</th>\n",
       "      <td>0.672363</td>\n",
       "      <td>0.680108</td>\n",
       "      <td>1.327348</td>\n",
       "    </tr>\n",
       "  </tbody>\n",
       "</table>\n",
       "</div>"
      ],
      "text/plain": [
       "                        f1-score  accuracy      time\n",
       "classifier                                          \n",
       "MLPClassifier           0.671666  0.673500  3.734108\n",
       "RandomForestClassifier  0.672363  0.680108  1.327348"
      ]
     },
     "execution_count": 10,
     "metadata": {},
     "output_type": "execute_result"
    }
   ],
   "source": [
    "res, conf = make_nclassif(x_ecg, y, n_splits=n_splits, \n",
    "                    feature_selector=feature_selector, \n",
    "                    list_classifiers = list_classif)\n",
    "avg_res(res)"
   ]
  },
  {
   "cell_type": "code",
   "execution_count": 14,
   "metadata": {
    "scrolled": true
   },
   "outputs": [
    {
     "data": {
      "text/plain": [
       "[array([[21, 10],\n",
       "        [22, 24]]),\n",
       " array([[21, 10],\n",
       "        [18, 28]]),\n",
       " array([[18, 18],\n",
       "        [ 5, 35]]),\n",
       " array([[25, 11],\n",
       "        [ 7, 33]]),\n",
       " array([[18, 16],\n",
       "        [ 8, 34]]),\n",
       " array([[17, 17],\n",
       "        [ 8, 34]]),\n",
       " array([[22, 14],\n",
       "        [ 4, 26]]),\n",
       " array([[25, 11],\n",
       "        [ 9, 21]]),\n",
       " array([[15, 13],\n",
       "        [11, 27]]),\n",
       " array([[18, 10],\n",
       "        [ 9, 29]]),\n",
       " array([[18, 16],\n",
       "        [ 6, 26]]),\n",
       " array([[18, 16],\n",
       "        [ 8, 24]]),\n",
       " array([[21, 19],\n",
       "        [ 8, 18]]),\n",
       " array([[22, 18],\n",
       "        [ 8, 18]]),\n",
       " array([[21, 11],\n",
       "        [ 4, 30]]),\n",
       " array([[23,  9],\n",
       "        [10, 24]]),\n",
       " array([[15,  5],\n",
       "        [10, 36]]),\n",
       " array([[12,  8],\n",
       "        [19, 27]]),\n",
       " array([[18, 22],\n",
       "        [ 3, 23]]),\n",
       " array([[23, 17],\n",
       "        [ 4, 22]])]"
      ]
     },
     "execution_count": 14,
     "metadata": {},
     "output_type": "execute_result"
    }
   ],
   "source": [
    "conf"
   ]
  },
  {
   "cell_type": "code",
   "execution_count": 13,
   "metadata": {},
   "outputs": [
    {
     "data": {
      "text/plain": [
       "array([[19.55, 13.55],\n",
       "       [ 9.05, 26.95]])"
      ]
     },
     "execution_count": 13,
     "metadata": {},
     "output_type": "execute_result"
    }
   ],
   "source": [
    "np.mean(conf, axis=0)"
   ]
  },
  {
   "cell_type": "markdown",
   "metadata": {},
   "source": [
    "## Comparison of several datasets (example: ECG only, EDA only, respiration only, and all 3 modalities)"
   ]
  },
  {
   "cell_type": "code",
   "execution_count": 15,
   "metadata": {},
   "outputs": [],
   "source": [
    "list_datasets = [('ECG',x_ecg), ('EDA',x_eda), ('Resp',x_resp), ('all', x)]"
   ]
  },
  {
   "cell_type": "code",
   "execution_count": 16,
   "metadata": {
    "scrolled": true
   },
   "outputs": [],
   "source": [
    "res_benchmark = benchmark_nrep(list_datasets, y, \n",
    "                               n_splits=n_splits, \n",
    "                               feature_selector=feature_selector, \n",
    "                               list_classifiers = list_classif, verbose=False)"
   ]
  },
  {
   "cell_type": "markdown",
   "metadata": {},
   "source": [
    "#### ECG results"
   ]
  },
  {
   "cell_type": "code",
   "execution_count": 17,
   "metadata": {},
   "outputs": [
    {
     "data": {
      "text/html": [
       "<div>\n",
       "<style scoped>\n",
       "    .dataframe tbody tr th:only-of-type {\n",
       "        vertical-align: middle;\n",
       "    }\n",
       "\n",
       "    .dataframe tbody tr th {\n",
       "        vertical-align: top;\n",
       "    }\n",
       "\n",
       "    .dataframe thead th {\n",
       "        text-align: right;\n",
       "    }\n",
       "</style>\n",
       "<table border=\"1\" class=\"dataframe\">\n",
       "  <thead>\n",
       "    <tr style=\"text-align: right;\">\n",
       "      <th></th>\n",
       "      <th>f1-score</th>\n",
       "      <th>accuracy</th>\n",
       "      <th>time</th>\n",
       "    </tr>\n",
       "    <tr>\n",
       "      <th>classifier</th>\n",
       "      <th></th>\n",
       "      <th></th>\n",
       "      <th></th>\n",
       "    </tr>\n",
       "  </thead>\n",
       "  <tbody>\n",
       "    <tr>\n",
       "      <th>MLPClassifier</th>\n",
       "      <td>0.671666</td>\n",
       "      <td>0.673500</td>\n",
       "      <td>4.378946</td>\n",
       "    </tr>\n",
       "    <tr>\n",
       "      <th>RandomForestClassifier</th>\n",
       "      <td>0.672363</td>\n",
       "      <td>0.680108</td>\n",
       "      <td>1.368795</td>\n",
       "    </tr>\n",
       "  </tbody>\n",
       "</table>\n",
       "</div>"
      ],
      "text/plain": [
       "                        f1-score  accuracy      time\n",
       "classifier                                          \n",
       "MLPClassifier           0.671666  0.673500  4.378946\n",
       "RandomForestClassifier  0.672363  0.680108  1.368795"
      ]
     },
     "execution_count": 17,
     "metadata": {},
     "output_type": "execute_result"
    }
   ],
   "source": [
    "avg_res(res_benchmark['ECG'])"
   ]
  },
  {
   "cell_type": "markdown",
   "metadata": {},
   "source": [
    "#### EDA results"
   ]
  },
  {
   "cell_type": "code",
   "execution_count": 18,
   "metadata": {},
   "outputs": [
    {
     "data": {
      "text/html": [
       "<div>\n",
       "<style scoped>\n",
       "    .dataframe tbody tr th:only-of-type {\n",
       "        vertical-align: middle;\n",
       "    }\n",
       "\n",
       "    .dataframe tbody tr th {\n",
       "        vertical-align: top;\n",
       "    }\n",
       "\n",
       "    .dataframe thead th {\n",
       "        text-align: right;\n",
       "    }\n",
       "</style>\n",
       "<table border=\"1\" class=\"dataframe\">\n",
       "  <thead>\n",
       "    <tr style=\"text-align: right;\">\n",
       "      <th></th>\n",
       "      <th>f1-score</th>\n",
       "      <th>accuracy</th>\n",
       "      <th>time</th>\n",
       "    </tr>\n",
       "    <tr>\n",
       "      <th>classifier</th>\n",
       "      <th></th>\n",
       "      <th></th>\n",
       "      <th></th>\n",
       "    </tr>\n",
       "  </thead>\n",
       "  <tbody>\n",
       "    <tr>\n",
       "      <th>MLPClassifier</th>\n",
       "      <td>0.615173</td>\n",
       "      <td>0.621367</td>\n",
       "      <td>2.955061</td>\n",
       "    </tr>\n",
       "    <tr>\n",
       "      <th>RandomForestClassifier</th>\n",
       "      <td>0.627674</td>\n",
       "      <td>0.647164</td>\n",
       "      <td>0.715421</td>\n",
       "    </tr>\n",
       "  </tbody>\n",
       "</table>\n",
       "</div>"
      ],
      "text/plain": [
       "                        f1-score  accuracy      time\n",
       "classifier                                          \n",
       "MLPClassifier           0.615173  0.621367  2.955061\n",
       "RandomForestClassifier  0.627674  0.647164  0.715421"
      ]
     },
     "execution_count": 18,
     "metadata": {},
     "output_type": "execute_result"
    }
   ],
   "source": [
    "avg_res(res_benchmark['EDA'])"
   ]
  },
  {
   "cell_type": "markdown",
   "metadata": {},
   "source": [
    "#### Respiration results"
   ]
  },
  {
   "cell_type": "code",
   "execution_count": 19,
   "metadata": {},
   "outputs": [
    {
     "data": {
      "text/html": [
       "<div>\n",
       "<style scoped>\n",
       "    .dataframe tbody tr th:only-of-type {\n",
       "        vertical-align: middle;\n",
       "    }\n",
       "\n",
       "    .dataframe tbody tr th {\n",
       "        vertical-align: top;\n",
       "    }\n",
       "\n",
       "    .dataframe thead th {\n",
       "        text-align: right;\n",
       "    }\n",
       "</style>\n",
       "<table border=\"1\" class=\"dataframe\">\n",
       "  <thead>\n",
       "    <tr style=\"text-align: right;\">\n",
       "      <th></th>\n",
       "      <th>f1-score</th>\n",
       "      <th>accuracy</th>\n",
       "      <th>time</th>\n",
       "    </tr>\n",
       "    <tr>\n",
       "      <th>classifier</th>\n",
       "      <th></th>\n",
       "      <th></th>\n",
       "      <th></th>\n",
       "    </tr>\n",
       "  </thead>\n",
       "  <tbody>\n",
       "    <tr>\n",
       "      <th>MLPClassifier</th>\n",
       "      <td>0.650243</td>\n",
       "      <td>0.654320</td>\n",
       "      <td>5.842921</td>\n",
       "    </tr>\n",
       "    <tr>\n",
       "      <th>RandomForestClassifier</th>\n",
       "      <td>0.702040</td>\n",
       "      <td>0.709686</td>\n",
       "      <td>2.560822</td>\n",
       "    </tr>\n",
       "  </tbody>\n",
       "</table>\n",
       "</div>"
      ],
      "text/plain": [
       "                        f1-score  accuracy      time\n",
       "classifier                                          \n",
       "MLPClassifier           0.650243  0.654320  5.842921\n",
       "RandomForestClassifier  0.702040  0.709686  2.560822"
      ]
     },
     "execution_count": 19,
     "metadata": {},
     "output_type": "execute_result"
    }
   ],
   "source": [
    "avg_res(res_benchmark['Resp'])"
   ]
  },
  {
   "cell_type": "markdown",
   "metadata": {},
   "source": [
    "#### All modalities combined"
   ]
  },
  {
   "cell_type": "code",
   "execution_count": 20,
   "metadata": {},
   "outputs": [
    {
     "data": {
      "text/html": [
       "<div>\n",
       "<style scoped>\n",
       "    .dataframe tbody tr th:only-of-type {\n",
       "        vertical-align: middle;\n",
       "    }\n",
       "\n",
       "    .dataframe tbody tr th {\n",
       "        vertical-align: top;\n",
       "    }\n",
       "\n",
       "    .dataframe thead th {\n",
       "        text-align: right;\n",
       "    }\n",
       "</style>\n",
       "<table border=\"1\" class=\"dataframe\">\n",
       "  <thead>\n",
       "    <tr style=\"text-align: right;\">\n",
       "      <th></th>\n",
       "      <th>f1-score</th>\n",
       "      <th>accuracy</th>\n",
       "      <th>time</th>\n",
       "    </tr>\n",
       "    <tr>\n",
       "      <th>classifier</th>\n",
       "      <th></th>\n",
       "      <th></th>\n",
       "      <th></th>\n",
       "    </tr>\n",
       "  </thead>\n",
       "  <tbody>\n",
       "    <tr>\n",
       "      <th>MLPClassifier</th>\n",
       "      <td>0.628752</td>\n",
       "      <td>0.636103</td>\n",
       "      <td>13.572231</td>\n",
       "    </tr>\n",
       "    <tr>\n",
       "      <th>RandomForestClassifier</th>\n",
       "      <td>0.691889</td>\n",
       "      <td>0.700457</td>\n",
       "      <td>8.966039</td>\n",
       "    </tr>\n",
       "  </tbody>\n",
       "</table>\n",
       "</div>"
      ],
      "text/plain": [
       "                        f1-score  accuracy       time\n",
       "classifier                                           \n",
       "MLPClassifier           0.628752  0.636103  13.572231\n",
       "RandomForestClassifier  0.691889  0.700457   8.966039"
      ]
     },
     "execution_count": 20,
     "metadata": {},
     "output_type": "execute_result"
    }
   ],
   "source": [
    "avg_res(res_benchmark['all'])"
   ]
  },
  {
   "cell_type": "markdown",
   "metadata": {},
   "source": [
    "# Test - using random splits instead of grouped by subjects\n",
    "#### All modalities"
   ]
  },
  {
   "cell_type": "code",
   "execution_count": null,
   "metadata": {},
   "outputs": [],
   "source": [
    "resrandom = make_nclassif_random_splits(x, y, n_splits=n_splits, \n",
    "                                        feature_selector=feature_selector, \n",
    "                                        list_classifiers = list_classif)\n",
    "avg_res(resrandom)"
   ]
  },
  {
   "cell_type": "markdown",
   "metadata": {},
   "source": [
    "#### ECG only"
   ]
  },
  {
   "cell_type": "code",
   "execution_count": null,
   "metadata": {},
   "outputs": [],
   "source": [
    "resrandomecg = make_nclassif_random_splits(x_ecg, y, n_splits=n_splits, \n",
    "                                        feature_selector=feature_selector, \n",
    "                                        list_classifiers = list_classif, verbose=False)\n",
    "avg_res(resrandomecg)"
   ]
  },
  {
   "cell_type": "code",
   "execution_count": null,
   "metadata": {},
   "outputs": [],
   "source": []
  },
  {
   "cell_type": "code",
   "execution_count": null,
   "metadata": {},
   "outputs": [],
   "source": []
  }
 ],
 "metadata": {
  "kernelspec": {
   "display_name": "Python 3",
   "language": "python",
   "name": "python3"
  },
  "language_info": {
   "codemirror_mode": {
    "name": "ipython",
    "version": 3
   },
   "file_extension": ".py",
   "mimetype": "text/x-python",
   "name": "python",
   "nbconvert_exporter": "python",
   "pygments_lexer": "ipython3",
   "version": "3.6.8"
  }
 },
 "nbformat": 4,
 "nbformat_minor": 4
}
